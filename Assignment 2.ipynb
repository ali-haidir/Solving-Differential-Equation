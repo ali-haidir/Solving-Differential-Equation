{
 "cells": [
  {
   "cell_type": "markdown",
   "metadata": {},
   "source": [
    "# Assignment 2"
   ]
  },
  {
   "cell_type": "code",
   "execution_count": 1,
   "metadata": {},
   "outputs": [],
   "source": [
    "from math import e\n",
    "from matplotlib import pyplot as plt\n"
   ]
  },
  {
   "cell_type": "code",
   "execution_count": 2,
   "metadata": {},
   "outputs": [],
   "source": [
    "#dp/dt = 0.1 P\n",
    "\n",
    "#P(t=0) = 100"
   ]
  },
  {
   "cell_type": "markdown",
   "metadata": {},
   "source": [
    "#  Q1"
   ]
  },
  {
   "cell_type": "code",
   "execution_count": 3,
   "metadata": {},
   "outputs": [],
   "source": [
    "# for analatical solution\n",
    "\n",
    "    # p=e^rt+c\n",
    "    \n",
    "    # p= e^rt * e^c\n",
    "    \n",
    "    #  p= e^rt * C\n",
    "    \n",
    "    # 100 = Ce^0.1(0) \n",
    "    \n",
    "    # C= 100\n",
    "    \n",
    "# c can be found if intial population is given \n",
    "    \n",
    "def analytical_solution(t ,r):\n",
    "    \n",
    "    C = 100\n",
    "    \n",
    "    P = C * e **(r *t)\n",
    "    \n",
    "   # print(P)\n",
    "    return P\n",
    "    \n",
    "    "
   ]
  },
  {
   "cell_type": "code",
   "execution_count": 4,
   "metadata": {},
   "outputs": [
    {
     "data": {
      "text/plain": [
       "271.8281828459045"
      ]
     },
     "execution_count": 4,
     "metadata": {},
     "output_type": "execute_result"
    }
   ],
   "source": [
    "analytical_solution(10 ,0.1)"
   ]
  },
  {
   "cell_type": "markdown",
   "metadata": {},
   "source": [
    "# Q 2"
   ]
  },
  {
   "cell_type": "code",
   "execution_count": 5,
   "metadata": {},
   "outputs": [],
   "source": [
    "def Euler_method_ip(delta, length):\n",
    "    s_l = length\n",
    "    p = 100\n",
    "    g_r = 0.1\n",
    "    delta_t = delta\n",
    "    number_iteration = int(s_l/delta_t)\n",
    "    for i in range(0,number_iteration):\n",
    "        growth = g_r *p\n",
    "        p = p+ (growth*delta_t)\n",
    "        t = i * delta_t\n",
    "        \n",
    "#     print(\"growth     =\", growth )\n",
    "#     print(\"Population =\", p )\n",
    "#     print(\"at time t  =\", t )\n",
    "    return p\n",
    "    "
   ]
  },
  {
   "cell_type": "code",
   "execution_count": 6,
   "metadata": {},
   "outputs": [
    {
     "data": {
      "text/plain": [
       "248.83200000000002"
      ]
     },
     "execution_count": 6,
     "metadata": {},
     "output_type": "execute_result"
    }
   ],
   "source": [
    "Euler_method_ip(2,10)"
   ]
  },
  {
   "cell_type": "code",
   "execution_count": null,
   "metadata": {},
   "outputs": [],
   "source": []
  },
  {
   "cell_type": "markdown",
   "metadata": {},
   "source": [
    "# Q 3"
   ]
  },
  {
   "cell_type": "code",
   "execution_count": 7,
   "metadata": {},
   "outputs": [],
   "source": [
    "def Error_diffrence_ip(t,delta,r):\n",
    "    analatical = analytical_solution(t ,r)\n",
    "    euler= Euler_method_ip(delta,t)\n",
    "    print(\"analatical =\",analatical)\n",
    "    print(\"euler      =\",euler)\n",
    "    result = analatical - euler\n",
    "    return result"
   ]
  },
  {
   "cell_type": "code",
   "execution_count": 8,
   "metadata": {},
   "outputs": [
    {
     "name": "stdout",
     "output_type": "stream",
     "text": [
      "analatical = 738.9056098930649\n",
      "euler      = 672.74999493256\n"
     ]
    },
    {
     "data": {
      "text/plain": [
       "66.15561496050498"
      ]
     },
     "execution_count": 8,
     "metadata": {},
     "output_type": "execute_result"
    }
   ],
   "source": [
    "Error_diffrence_ip(20,1,0.1)"
   ]
  },
  {
   "cell_type": "code",
   "execution_count": null,
   "metadata": {},
   "outputs": [],
   "source": []
  },
  {
   "cell_type": "code",
   "execution_count": null,
   "metadata": {},
   "outputs": [],
   "source": []
  },
  {
   "cell_type": "code",
   "execution_count": null,
   "metadata": {},
   "outputs": [],
   "source": []
  },
  {
   "cell_type": "code",
   "execution_count": null,
   "metadata": {},
   "outputs": [],
   "source": []
  },
  {
   "cell_type": "markdown",
   "metadata": {},
   "source": [
    "# Q 4 "
   ]
  },
  {
   "cell_type": "code",
   "execution_count": 14,
   "metadata": {},
   "outputs": [],
   "source": [
    "time_stamps = [1,2,4,6,8]\n",
    "\n",
    "def error_different_values(time_stamps,r,length):\n",
    "    error_list =[]\n",
    "    for i in time_stamps:\n",
    "        x = Error_diffrence_ip(length,i,0.1)\n",
    "        error_list.append(x)\n",
    "#         print(i)\n",
    "\n",
    "       \n",
    "    return error_list\n",
    "        \n",
    "    "
   ]
  },
  {
   "cell_type": "code",
   "execution_count": 15,
   "metadata": {},
   "outputs": [
    {
     "name": "stdout",
     "output_type": "stream",
     "text": [
      "analatical = 738.9056098930649\n",
      "euler      = 672.74999493256\n",
      "analatical = 738.9056098930649\n",
      "euler      = 619.17364224\n",
      "analatical = 738.9056098930649\n",
      "euler      = 537.824\n",
      "analatical = 738.9056098930649\n",
      "euler      = 409.6\n",
      "analatical = 738.9056098930649\n",
      "euler      = 324.0\n"
     ]
    },
    {
     "data": {
      "text/plain": [
       "[66.15561496050498,\n",
       " 119.73196765306488,\n",
       " 201.08160989306498,\n",
       " 329.3056098930649,\n",
       " 414.90560989306493]"
      ]
     },
     "execution_count": 15,
     "metadata": {},
     "output_type": "execute_result"
    }
   ],
   "source": [
    "error_different_values(time_stamps,0.1,20)"
   ]
  },
  {
   "cell_type": "code",
   "execution_count": null,
   "metadata": {},
   "outputs": [],
   "source": []
  },
  {
   "cell_type": "markdown",
   "metadata": {},
   "source": [
    "# Q5"
   ]
  },
  {
   "cell_type": "code",
   "execution_count": 16,
   "metadata": {},
   "outputs": [
    {
     "name": "stdout",
     "output_type": "stream",
     "text": [
      "analatical = 738.9056098930649\n",
      "euler      = 672.74999493256\n",
      "analatical = 738.9056098930649\n",
      "euler      = 619.17364224\n",
      "analatical = 738.9056098930649\n",
      "euler      = 537.824\n",
      "analatical = 738.9056098930649\n",
      "euler      = 409.6\n",
      "analatical = 738.9056098930649\n",
      "euler      = 324.0\n"
     ]
    }
   ],
   "source": [
    "error_list_plot = error_different_values(time_stamps,0.1,20)\n",
    "def plot(l1):\n",
    "    x =[1,2,4,6,8]\n",
    "    y = l1\n",
    "    \n",
    "    plt.plot(x, y)"
   ]
  },
  {
   "cell_type": "code",
   "execution_count": 17,
   "metadata": {},
   "outputs": [
    {
     "data": {
      "image/png": "[encoded data removed]",
      "text/plain": [
       "<Figure size 432x288 with 1 Axes>"
      ]
     },
     "metadata": {
      "needs_background": "light"
     },
     "output_type": "display_data"
    }
   ],
   "source": [
    "plot(error_list_plot)"
   ]
  },
  {
   "cell_type": "code",
   "execution_count": null,
   "metadata": {},
   "outputs": [],
   "source": []
  },
  {
   "cell_type": "code",
   "execution_count": null,
   "metadata": {},
   "outputs": [],
   "source": []
  },
  {
   "cell_type": "markdown",
   "metadata": {},
   "source": [
    "# Q2 (poplution at every delta_t) \n"
   ]
  },
  {
   "cell_type": "markdown",
   "metadata": {},
   "source": [
    "# # do not consider"
   ]
  },
  {
   "cell_type": "code",
   "execution_count": 18,
   "metadata": {},
   "outputs": [],
   "source": [
    "def Euler_Method(d_t, length):\n",
    "    l1 = []\n",
    "    s_l = length +2\n",
    "    p = 100\n",
    "    g_r = 0.1\n",
    "    delta_t = d_t\n",
    "    number_iteration = int(s_l/delta_t)\n",
    "   # print(number_iteration)\n",
    "    for i in range(1,number_iteration):\n",
    "        growth = g_r *p\n",
    "        p = p+ (growth*delta_t)\n",
    "        t = i * delta_t\n",
    "        \n",
    "         \n",
    "        \n",
    "        print(\"growth     =\", growth )\n",
    "        print(\"Population =\", p )\n",
    "        l1.append(p)\n",
    "        print(\"at time t  =\", t )\n",
    "        print(\"\\niteration \" + str(i) + \" ended \\n\" )\n",
    "  #  print(l1)\n",
    "    \n",
    "    \n",
    "    return l1\n",
    "    \n",
    "    "
   ]
  },
  {
   "cell_type": "code",
   "execution_count": 19,
   "metadata": {},
   "outputs": [
    {
     "name": "stdout",
     "output_type": "stream",
     "text": [
      "growth     = 10.0\n",
      "Population = 120.0\n",
      "at time t  = 2\n",
      "\n",
      "iteration 1 ended \n",
      "\n",
      "growth     = 12.0\n",
      "Population = 144.0\n",
      "at time t  = 4\n",
      "\n",
      "iteration 2 ended \n",
      "\n",
      "growth     = 14.4\n",
      "Population = 172.8\n",
      "at time t  = 6\n",
      "\n",
      "iteration 3 ended \n",
      "\n",
      "growth     = 17.28\n",
      "Population = 207.36\n",
      "at time t  = 8\n",
      "\n",
      "iteration 4 ended \n",
      "\n",
      "growth     = 20.736000000000004\n",
      "Population = 248.83200000000002\n",
      "at time t  = 10\n",
      "\n",
      "iteration 5 ended \n",
      "\n",
      "growth     = 24.883200000000002\n",
      "Population = 298.5984\n",
      "at time t  = 12\n",
      "\n",
      "iteration 6 ended \n",
      "\n",
      "growth     = 29.859840000000005\n",
      "Population = 358.31808\n",
      "at time t  = 14\n",
      "\n",
      "iteration 7 ended \n",
      "\n",
      "growth     = 35.831808\n",
      "Population = 429.981696\n",
      "at time t  = 16\n",
      "\n",
      "iteration 8 ended \n",
      "\n",
      "growth     = 42.998169600000004\n",
      "Population = 515.9780352\n",
      "at time t  = 18\n",
      "\n",
      "iteration 9 ended \n",
      "\n",
      "growth     = 51.59780352000001\n",
      "Population = 619.17364224\n",
      "at time t  = 20\n",
      "\n",
      "iteration 10 ended \n",
      "\n"
     ]
    },
    {
     "data": {
      "text/plain": [
       "[120.0,\n",
       " 144.0,\n",
       " 172.8,\n",
       " 207.36,\n",
       " 248.83200000000002,\n",
       " 298.5984,\n",
       " 358.31808,\n",
       " 429.981696,\n",
       " 515.9780352,\n",
       " 619.17364224]"
      ]
     },
     "execution_count": 19,
     "metadata": {},
     "output_type": "execute_result"
    }
   ],
   "source": [
    "Euler_Method(2,20)"
   ]
  },
  {
   "cell_type": "markdown",
   "metadata": {},
   "source": [
    "# Q3 & Q4"
   ]
  },
  {
   "cell_type": "code",
   "execution_count": 20,
   "metadata": {},
   "outputs": [],
   "source": [
    "def Error_difference(d_t,length):\n",
    "    euler_method_solution = Euler_Method(d_t,length)\n",
    "    error_list = []\n",
    "    e=0\n",
    "    for i in range(2, length , d_t):\n",
    "       # print(\"at time t\" ,i)\n",
    "        analytical_solution_result = analytical_solution(i,0.1)\n",
    "       # print(analytical_solution_result)\n",
    "        \n",
    "        error = analytical_solution_result - euler_method_solution[e]\n",
    "        e +=1\n",
    "        \n",
    "        error_list.append(error)\n",
    "    print(error_list )\n",
    "    return error_list\n",
    "    "
   ]
  },
  {
   "cell_type": "code",
   "execution_count": 21,
   "metadata": {},
   "outputs": [
    {
     "name": "stdout",
     "output_type": "stream",
     "text": [
      "growth     = 10.0\n",
      "Population = 120.0\n",
      "at time t  = 2\n",
      "\n",
      "iteration 1 ended \n",
      "\n",
      "growth     = 12.0\n",
      "Population = 144.0\n",
      "at time t  = 4\n",
      "\n",
      "iteration 2 ended \n",
      "\n",
      "growth     = 14.4\n",
      "Population = 172.8\n",
      "at time t  = 6\n",
      "\n",
      "iteration 3 ended \n",
      "\n",
      "growth     = 17.28\n",
      "Population = 207.36\n",
      "at time t  = 8\n",
      "\n",
      "iteration 4 ended \n",
      "\n",
      "growth     = 20.736000000000004\n",
      "Population = 248.83200000000002\n",
      "at time t  = 10\n",
      "\n",
      "iteration 5 ended \n",
      "\n",
      "growth     = 24.883200000000002\n",
      "Population = 298.5984\n",
      "at time t  = 12\n",
      "\n",
      "iteration 6 ended \n",
      "\n",
      "growth     = 29.859840000000005\n",
      "Population = 358.31808\n",
      "at time t  = 14\n",
      "\n",
      "iteration 7 ended \n",
      "\n",
      "growth     = 35.831808\n",
      "Population = 429.981696\n",
      "at time t  = 16\n",
      "\n",
      "iteration 8 ended \n",
      "\n",
      "growth     = 42.998169600000004\n",
      "Population = 515.9780352\n",
      "at time t  = 18\n",
      "\n",
      "iteration 9 ended \n",
      "\n",
      "growth     = 51.59780352000001\n",
      "Population = 619.17364224\n",
      "at time t  = 20\n",
      "\n",
      "iteration 10 ended \n",
      "\n",
      "[2.140275816016981, 5.182469764127035, 9.411880039050914, 15.194092849246715, 22.996182845904485, 33.41329227365475, 47.20191668446745, 65.32154643951151, 88.98671124129453]\n"
     ]
    }
   ],
   "source": [
    "error_difference_list = Error_difference(2,20)"
   ]
  },
  {
   "cell_type": "code",
   "execution_count": null,
   "metadata": {},
   "outputs": [],
   "source": []
  },
  {
   "cell_type": "markdown",
   "metadata": {},
   "source": [
    "# Q5"
   ]
  },
  {
   "cell_type": "code",
   "execution_count": 22,
   "metadata": {},
   "outputs": [
    {
     "name": "stdout",
     "output_type": "stream",
     "text": [
      "[2.140275816016981, 5.182469764127035, 9.411880039050914, 15.194092849246715, 22.996182845904485, 33.41329227365475, 47.20191668446745, 65.32154643951151, 88.98671124129453]\n"
     ]
    }
   ],
   "source": [
    "print(error_difference_list)"
   ]
  },
  {
   "cell_type": "code",
   "execution_count": 23,
   "metadata": {},
   "outputs": [],
   "source": [
    "def plot(l1):\n",
    "    x =[1,2,3,4,5,6,7,8,9]\n",
    "    y = l1\n",
    "    \n",
    "    plt.plot(x, y)\n",
    "    "
   ]
  },
  {
   "cell_type": "code",
   "execution_count": 24,
   "metadata": {},
   "outputs": [
    {
     "data": {
      "image/png": "[encoded data removed]",
      "text/plain": [
       "<Figure size 432x288 with 1 Axes>"
      ]
     },
     "metadata": {
      "needs_background": "light"
     },
     "output_type": "display_data"
    }
   ],
   "source": [
    "plot(error_difference_list)"
   ]
  },
  {
   "cell_type": "code",
   "execution_count": null,
   "metadata": {},
   "outputs": [],
   "source": []
  }
 ],
 "metadata": {
  "kernelspec": {
   "display_name": "Python 3",
   "language": "python",
   "name": "python3"
  },
  "language_info": {
   "codemirror_mode": {
    "name": "ipython",
    "version": 3
   },
   "file_extension": ".py",
   "mimetype": "text/x-python",
   "name": "python",
   "nbconvert_exporter": "python",
   "pygments_lexer": "ipython3",
   "version": "3.8.5"
  }
 },
 "nbformat": 4,
 "nbformat_minor": 4
}
